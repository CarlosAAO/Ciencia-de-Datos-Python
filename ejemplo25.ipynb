{
 "cells": [
  {
   "cell_type": "code",
   "execution_count": 1,
   "id": "6075c94e",
   "metadata": {},
   "outputs": [],
   "source": [
    "import pandas as pd"
   ]
  },
  {
   "cell_type": "code",
   "execution_count": 13,
   "id": "6682bc44",
   "metadata": {},
   "outputs": [],
   "source": [
    "df = pd.read_csv('c:\\sistemas\\ciencia-datos\\\\temperaturas.csv', delimiter=\";\")"
   ]
  },
  {
   "cell_type": "code",
   "execution_count": 14,
   "id": "1d840ad7",
   "metadata": {},
   "outputs": [
    {
     "name": "stdout",
     "output_type": "stream",
     "text": [
      "     Año  temperatura\n",
      "0   1960         71.4\n",
      "1   1961         71.9\n",
      "2   1962         71.9\n",
      "3   1963         72.3\n",
      "4   1964         71.7\n",
      "..   ...          ...\n",
      "57  2017         74.6\n",
      "58  2018         73.5\n",
      "59  2019         72.7\n",
      "60  2020         74.6\n",
      "61  2021         73.5\n",
      "\n",
      "[62 rows x 2 columns]\n"
     ]
    }
   ],
   "source": [
    "print(df)"
   ]
  },
  {
   "cell_type": "code",
   "execution_count": 15,
   "id": "acc98162",
   "metadata": {},
   "outputs": [],
   "source": [
    "nueva_temperatura = pd.DataFrame.from_dict([{'Año': '2022', 'temperatura': '74.3'}])"
   ]
  },
  {
   "cell_type": "code",
   "execution_count": 16,
   "id": "415bf157",
   "metadata": {},
   "outputs": [],
   "source": [
    "df = pd.concat([df, nueva_temperatura], ignore_index=True)"
   ]
  },
  {
   "cell_type": "code",
   "execution_count": 17,
   "id": "10510aef",
   "metadata": {},
   "outputs": [
    {
     "name": "stdout",
     "output_type": "stream",
     "text": [
      "     Año temperatura\n",
      "0   1960        71.4\n",
      "1   1961        71.9\n",
      "2   1962        71.9\n",
      "3   1963        72.3\n",
      "4   1964        71.7\n",
      "..   ...         ...\n",
      "58  2018        73.5\n",
      "59  2019        72.7\n",
      "60  2020        74.6\n",
      "61  2021        73.5\n",
      "62  2022        74.3\n",
      "\n",
      "[63 rows x 2 columns]\n"
     ]
    }
   ],
   "source": [
    "print(df)"
   ]
  },
  {
   "cell_type": "code",
   "execution_count": null,
   "id": "71f6c279",
   "metadata": {},
   "outputs": [],
   "source": []
  }
 ],
 "metadata": {
  "kernelspec": {
   "display_name": "Python 3 (ipykernel)",
   "language": "python",
   "name": "python3"
  },
  "language_info": {
   "codemirror_mode": {
    "name": "ipython",
    "version": 3
   },
   "file_extension": ".py",
   "mimetype": "text/x-python",
   "name": "python",
   "nbconvert_exporter": "python",
   "pygments_lexer": "ipython3",
   "version": "3.11.4"
  }
 },
 "nbformat": 4,
 "nbformat_minor": 5
}
