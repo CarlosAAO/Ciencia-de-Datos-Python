{
 "cells": [
  {
   "cell_type": "code",
   "execution_count": 1,
   "id": "8e7a5313",
   "metadata": {},
   "outputs": [],
   "source": [
    "import pandas as pd\n",
    "from sklearn.preprocessing import MinMaxScaler"
   ]
  },
  {
   "cell_type": "code",
   "execution_count": 2,
   "id": "9caa5a49",
   "metadata": {},
   "outputs": [],
   "source": [
    "df = pd.read_csv('c:\\sistemas\\ciencia-datos\\datos.csv', delimiter=\";\")"
   ]
  },
  {
   "cell_type": "code",
   "execution_count": 3,
   "id": "691c41d5",
   "metadata": {},
   "outputs": [
    {
     "name": "stdout",
     "output_type": "stream",
     "text": [
      "    Altura    Peso\n",
      "0     1.68   63.11\n",
      "1     1.70   64.47\n",
      "2     1.73   66.28\n",
      "3     1.75   68.10\n",
      "4     1.78   69.92\n",
      "5     1.80   72.19\n",
      "6     1.83   74.46\n",
      "7     1.57  105.18\n",
      "8     1.19  114.41\n",
      "9     1.74   82.30\n",
      "10    1.82  117.53\n",
      "11    1.32  104.75\n",
      "12    1.40   58.88\n",
      "13    1.14   66.02\n",
      "14    1.25  106.64\n",
      "15    1.71  110.20\n",
      "16    1.39   82.25\n",
      "17    1.55  100.12\n",
      "18    1.55   92.07\n",
      "19    1.93  129.42\n"
     ]
    }
   ],
   "source": [
    "print(df.head(20))"
   ]
  },
  {
   "cell_type": "code",
   "execution_count": 4,
   "id": "73324a43",
   "metadata": {},
   "outputs": [],
   "source": [
    "scaler = MinMaxScaler()"
   ]
  },
  {
   "cell_type": "code",
   "execution_count": 6,
   "id": "70545cb3",
   "metadata": {},
   "outputs": [],
   "source": [
    "scaled_df = scaler.fit_transform(df)"
   ]
  },
  {
   "cell_type": "code",
   "execution_count": 8,
   "id": "e7fa9463",
   "metadata": {},
   "outputs": [],
   "source": [
    "scaled_df = pd.DataFrame(scaled_df, columns=['Altura','Peso'])"
   ]
  },
  {
   "cell_type": "code",
   "execution_count": 9,
   "id": "e0cba5d3",
   "metadata": {},
   "outputs": [
    {
     "name": "stdout",
     "output_type": "stream",
     "text": [
      "      Altura      Peso\n",
      "0   0.655172  0.141173\n",
      "1   0.678161  0.158788\n",
      "2   0.712644  0.182230\n",
      "3   0.735632  0.205802\n",
      "4   0.770115  0.229374\n",
      "5   0.793103  0.258775\n",
      "6   0.827586  0.288175\n",
      "7   0.528736  0.686051\n",
      "8   0.091954  0.805595\n",
      "9   0.724138  0.389716\n",
      "10  0.816092  0.846004\n",
      "11  0.241379  0.680482\n",
      "12  0.333333  0.086388\n",
      "13  0.034483  0.178863\n",
      "14  0.160920  0.704960\n",
      "15  0.689655  0.751069\n",
      "16  0.321839  0.389069\n",
      "17  0.505747  0.620515\n",
      "18  0.505747  0.516254\n",
      "19  0.942529  1.000000\n",
      "20  0.310345  0.238829\n",
      "21  0.344828  0.798342\n",
      "22  1.000000  0.105815\n",
      "23  0.689655  0.365108\n",
      "24  0.333333  0.940422\n",
      "25  0.528736  0.533739\n",
      "26  0.862069  0.812848\n",
      "27  0.770115  0.064888\n",
      "28  0.241379  0.830333\n",
      "29  0.678161  0.036265\n",
      "30  1.000000  0.253465\n",
      "31  0.586207  0.576350\n",
      "32  0.195402  0.000648\n",
      "33  0.793103  0.853128\n",
      "34  0.919540  0.064370\n",
      "35  0.689655  0.889911\n",
      "36  0.965517  0.134827\n",
      "37  0.000000  0.091180\n",
      "38  0.517241  0.248802\n",
      "39  0.747126  0.285326\n",
      "40  0.471264  0.528040\n",
      "41  0.413793  0.000000\n",
      "42  0.448276  0.011786\n",
      "43  0.471264  0.029400\n",
      "44  0.505747  0.047015\n",
      "45  0.528736  0.064629\n",
      "46  0.563218  0.082373\n",
      "47  0.597701  0.099987\n",
      "48  0.620690  0.117601\n"
     ]
    }
   ],
   "source": [
    "print(scaled_df)"
   ]
  },
  {
   "cell_type": "code",
   "execution_count": null,
   "id": "7fb399c8",
   "metadata": {},
   "outputs": [],
   "source": []
  }
 ],
 "metadata": {
  "kernelspec": {
   "display_name": "Python 3 (ipykernel)",
   "language": "python",
   "name": "python3"
  },
  "language_info": {
   "codemirror_mode": {
    "name": "ipython",
    "version": 3
   },
   "file_extension": ".py",
   "mimetype": "text/x-python",
   "name": "python",
   "nbconvert_exporter": "python",
   "pygments_lexer": "ipython3",
   "version": "3.11.4"
  }
 },
 "nbformat": 4,
 "nbformat_minor": 5
}
