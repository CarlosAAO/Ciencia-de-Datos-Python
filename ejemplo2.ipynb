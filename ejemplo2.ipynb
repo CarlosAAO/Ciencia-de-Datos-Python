{
 "cells": [
  {
   "cell_type": "code",
   "execution_count": 2,
   "id": "bf04399c",
   "metadata": {},
   "outputs": [],
   "source": [
    "import pandas as pd\n",
    "df = pd.read_csv('c:\\sistemas\\ciencia-datos\\empleados.csv', delimiter=\";\")"
   ]
  },
  {
   "cell_type": "code",
   "execution_count": 3,
   "id": "bbc7308c",
   "metadata": {},
   "outputs": [
    {
     "name": "stdout",
     "output_type": "stream",
     "text": [
      "       Nombre  Apellido       Sexo   Estado_Civil  Edad  Experiencia  Salario  \\\n",
      "0   Alexandro       NaN  Masculino     Soltero(a)  22.0          3.0   2423.0   \n",
      "1      Carlos       NaN  Masculino      Casado(a)  38.0         10.0   3132.0   \n",
      "2      Felipa       NaN   Femenino     Soltero(a)  26.0          5.0   2639.0   \n",
      "3      Daniel       NaN  Masculino      Casado(a)  35.0         10.0   3122.0   \n",
      "4        John       NaN  Masculino      Casado(a)  35.0         13.0   3431.0   \n",
      "5      Edward       NaN  Masculino     Soltero(a)   NaN          NaN   4500.0   \n",
      "6     Ruperta       NaN   Femenino      Casado(a)  54.0         18.0   3962.0   \n",
      "7       Amaya       NaN   Femenino  Divorciado(a)  22.0          3.0   2450.0   \n",
      "8   Francisca       NaN   Femenino     Soltero(a)  27.0          4.0   2564.0   \n",
      "9      Selena       NaN   Femenino      Casado(a)  24.0          6.0   2709.0   \n",
      "10       Febe       NaN   Femenino      Casado(a)  44.0         22.0   4359.0   \n",
      "11     Ximena       NaN   Femenino     Soltero(a)  58.0         24.0   4532.0   \n",
      "12      David       NaN  Masculino  Divorciado(a)  20.0          1.0   1977.0   \n",
      "13        Max       NaN  Masculino  Divorciado(a)  39.0          8.0   2953.0   \n",
      "14     Selena       NaN   Femenino      Casado(a)  24.0          6.0   2709.0   \n",
      "15        NaN       NaN   Femenino            NaN  44.0         22.0      NaN   \n",
      "16      Paula       NaN   Femenino  Divorciado(a)  55.0         12.0   3306.0   \n",
      "17        Tim       NaN  Masculino  Divorciado(a)  22.0          4.0   2518.0   \n",
      "18     Andrew       NaN  Masculino  Divorciado(a)   NaN         10.0   3194.0   \n",
      "19     Gloria       NaN   Femenino      Casado(a)  31.0         11.0   3267.0   \n",
      "\n",
      "   Gerencia          Departamento  \n",
      "0        No            Publicidad  \n",
      "1        Sí                   NaN  \n",
      "2        No             Comercial  \n",
      "3        No             Comercial  \n",
      "4        Sí  Servicios al cliente  \n",
      "5        No                 Legal  \n",
      "6        No              Producto  \n",
      "7       NaN             Comercial  \n",
      "8        No                    IT  \n",
      "9        Sí          Contabilidad  \n",
      "10       No                   NaN  \n",
      "11       No                 Legal  \n",
      "12       No      Recursos Humanos  \n",
      "13       No                Ventas  \n",
      "14       Sí          Contabilidad  \n",
      "15      NaN                   NaN  \n",
      "16       No              Producto  \n",
      "17       No      Recursos Humanos  \n",
      "18       No              Producto  \n",
      "19       No  Servicios al cliente  \n"
     ]
    }
   ],
   "source": [
    "print(df.head(20))"
   ]
  },
  {
   "cell_type": "markdown",
   "id": "1d6f5269",
   "metadata": {},
   "source": [
    "# Con shape indica que el dataset tiene 251 filas y 9 columnas"
   ]
  },
  {
   "cell_type": "code",
   "execution_count": 4,
   "id": "52c263cd",
   "metadata": {},
   "outputs": [
    {
     "name": "stdout",
     "output_type": "stream",
     "text": [
      "(251, 9)\n"
     ]
    }
   ],
   "source": [
    "print(df.shape)"
   ]
  },
  {
   "cell_type": "markdown",
   "id": "cdb286f2",
   "metadata": {},
   "source": [
    "# Imprime la sumatoria de elementos nulos de cada columna de dataset, en este caso la columna apellidos tiene todas sus filas con nulos"
   ]
  },
  {
   "cell_type": "code",
   "execution_count": 5,
   "id": "a074f4e5",
   "metadata": {},
   "outputs": [
    {
     "name": "stdout",
     "output_type": "stream",
     "text": [
      "Nombre            6\n",
      "Apellido        251\n",
      "Sexo             37\n",
      "Estado_Civil      4\n",
      "Edad             61\n",
      "Experiencia       4\n",
      "Salario           6\n",
      "Gerencia         21\n",
      "Departamento     12\n",
      "dtype: int64\n"
     ]
    }
   ],
   "source": [
    "print(df.isnull().sum())"
   ]
  },
  {
   "cell_type": "markdown",
   "id": "0e9a9400",
   "metadata": {},
   "source": [
    "# Elimina la columna Apellido en axis se utiliza 0 cuando se aplica index y 1 cuando aplica columnas"
   ]
  },
  {
   "cell_type": "code",
   "execution_count": 7,
   "id": "db77a1fd",
   "metadata": {},
   "outputs": [],
   "source": [
    "df_actualizado = df.drop(axis=1, columns=['Apellido'])"
   ]
  },
  {
   "cell_type": "markdown",
   "id": "4f7283d2",
   "metadata": {},
   "source": [
    "# Imprime las 20 primeras filas una vez elimanada la columna apellidos"
   ]
  },
  {
   "cell_type": "code",
   "execution_count": 9,
   "id": "75a74c24",
   "metadata": {},
   "outputs": [
    {
     "name": "stdout",
     "output_type": "stream",
     "text": [
      "       Nombre       Sexo   Estado_Civil  Edad  Experiencia  Salario Gerencia  \\\n",
      "0   Alexandro  Masculino     Soltero(a)  22.0          3.0   2423.0       No   \n",
      "1      Carlos  Masculino      Casado(a)  38.0         10.0   3132.0       Sí   \n",
      "2      Felipa   Femenino     Soltero(a)  26.0          5.0   2639.0       No   \n",
      "3      Daniel  Masculino      Casado(a)  35.0         10.0   3122.0       No   \n",
      "4        John  Masculino      Casado(a)  35.0         13.0   3431.0       Sí   \n",
      "5      Edward  Masculino     Soltero(a)   NaN          NaN   4500.0       No   \n",
      "6     Ruperta   Femenino      Casado(a)  54.0         18.0   3962.0       No   \n",
      "7       Amaya   Femenino  Divorciado(a)  22.0          3.0   2450.0      NaN   \n",
      "8   Francisca   Femenino     Soltero(a)  27.0          4.0   2564.0       No   \n",
      "9      Selena   Femenino      Casado(a)  24.0          6.0   2709.0       Sí   \n",
      "10       Febe   Femenino      Casado(a)  44.0         22.0   4359.0       No   \n",
      "11     Ximena   Femenino     Soltero(a)  58.0         24.0   4532.0       No   \n",
      "12      David  Masculino  Divorciado(a)  20.0          1.0   1977.0       No   \n",
      "13        Max  Masculino  Divorciado(a)  39.0          8.0   2953.0       No   \n",
      "14     Selena   Femenino      Casado(a)  24.0          6.0   2709.0       Sí   \n",
      "15        NaN   Femenino            NaN  44.0         22.0      NaN      NaN   \n",
      "16      Paula   Femenino  Divorciado(a)  55.0         12.0   3306.0       No   \n",
      "17        Tim  Masculino  Divorciado(a)  22.0          4.0   2518.0       No   \n",
      "18     Andrew  Masculino  Divorciado(a)   NaN         10.0   3194.0       No   \n",
      "19     Gloria   Femenino      Casado(a)  31.0         11.0   3267.0       No   \n",
      "\n",
      "            Departamento  \n",
      "0             Publicidad  \n",
      "1                    NaN  \n",
      "2              Comercial  \n",
      "3              Comercial  \n",
      "4   Servicios al cliente  \n",
      "5                  Legal  \n",
      "6               Producto  \n",
      "7              Comercial  \n",
      "8                     IT  \n",
      "9           Contabilidad  \n",
      "10                   NaN  \n",
      "11                 Legal  \n",
      "12      Recursos Humanos  \n",
      "13                Ventas  \n",
      "14          Contabilidad  \n",
      "15                   NaN  \n",
      "16              Producto  \n",
      "17      Recursos Humanos  \n",
      "18              Producto  \n",
      "19  Servicios al cliente  \n"
     ]
    }
   ],
   "source": [
    "print(df_actualizado.head(20))"
   ]
  }
 ],
 "metadata": {
  "kernelspec": {
   "display_name": "Python 3 (ipykernel)",
   "language": "python",
   "name": "python3"
  },
  "language_info": {
   "codemirror_mode": {
    "name": "ipython",
    "version": 3
   },
   "file_extension": ".py",
   "mimetype": "text/x-python",
   "name": "python",
   "nbconvert_exporter": "python",
   "pygments_lexer": "ipython3",
   "version": "3.11.4"
  }
 },
 "nbformat": 4,
 "nbformat_minor": 5
}
