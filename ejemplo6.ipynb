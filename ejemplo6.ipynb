{
 "cells": [
  {
   "cell_type": "code",
   "execution_count": 15,
   "id": "5f25db17",
   "metadata": {},
   "outputs": [],
   "source": [
    "import pandas as pd\n",
    "from sklearn.linear_model import LinearRegression"
   ]
  },
  {
   "cell_type": "code",
   "execution_count": 37,
   "id": "9fc476e0",
   "metadata": {},
   "outputs": [],
   "source": [
    "regresion_lineal = LinearRegression()"
   ]
  },
  {
   "cell_type": "code",
   "execution_count": 39,
   "id": "51d4e14e",
   "metadata": {},
   "outputs": [],
   "source": [
    "df = pd.read_csv('c:\\sistemas\\ciencia-datos\\empleados2.csv', delimiter=\";\")"
   ]
  },
  {
   "cell_type": "code",
   "execution_count": 40,
   "id": "eaacddcc",
   "metadata": {},
   "outputs": [
    {
     "name": "stdout",
     "output_type": "stream",
     "text": [
      "    Edad  Experiencia  Salario\n",
      "0   22.0            3     2423\n",
      "1   26.0            5     2639\n",
      "2   35.0           10     3122\n",
      "3   35.0           13     3431\n",
      "4   54.0           18     3962\n",
      "5   27.0            4     2564\n",
      "6   24.0            6     2709\n",
      "7   58.0           24     4532\n",
      "8   20.0            1     1977\n",
      "9   39.0            8     2953\n",
      "10  24.0            6     2709\n",
      "11  55.0           12     3306\n",
      "12  22.0            4     2518\n",
      "13   NaN           10     3194\n",
      "14  31.0           11     3267\n",
      "15   NaN           15     3635\n",
      "16  34.0           11     3257\n",
      "17  23.0            5     2695\n",
      "18   NaN           24     4529\n",
      "19   NaN           18     3907\n"
     ]
    }
   ],
   "source": [
    "print(df.head(20))"
   ]
  },
  {
   "cell_type": "code",
   "execution_count": 41,
   "id": "980c602d",
   "metadata": {},
   "outputs": [
    {
     "name": "stdout",
     "output_type": "stream",
     "text": [
      "Edad           46\n",
      "Experiencia     0\n",
      "Salario         0\n",
      "dtype: int64\n"
     ]
    }
   ],
   "source": [
    "print(df.isnull().sum())"
   ]
  },
  {
   "cell_type": "code",
   "execution_count": 42,
   "id": "4c9b85e1",
   "metadata": {},
   "outputs": [],
   "source": [
    "datos_test = df[df['Edad'].isnull()==True]"
   ]
  },
  {
   "cell_type": "code",
   "execution_count": 43,
   "id": "84798e3e",
   "metadata": {},
   "outputs": [],
   "source": [
    "datos_entrenamiento = df[df['Edad'].isnull()==False]"
   ]
  },
  {
   "cell_type": "code",
   "execution_count": 44,
   "id": "3acb3e35",
   "metadata": {},
   "outputs": [],
   "source": [
    "y_entrenamiento = datos_entrenamiento['Edad']"
   ]
  },
  {
   "cell_type": "code",
   "execution_count": 45,
   "id": "2b68e8bc",
   "metadata": {},
   "outputs": [
    {
     "name": "stdout",
     "output_type": "stream",
     "text": [
      "0      22.0\n",
      "1      26.0\n",
      "2      35.0\n",
      "3      35.0\n",
      "4      54.0\n",
      "       ... \n",
      "186    29.0\n",
      "187    22.0\n",
      "188    30.0\n",
      "189    44.0\n",
      "190    37.0\n",
      "Name: Edad, Length: 145, dtype: float64\n"
     ]
    }
   ],
   "source": [
    "print(y_entrenamiento)"
   ]
  },
  {
   "cell_type": "code",
   "execution_count": 46,
   "id": "0af91b4a",
   "metadata": {},
   "outputs": [],
   "source": [
    "x_entrenamiento = datos_entrenamiento.drop(\"Edad\",axis=1)"
   ]
  },
  {
   "cell_type": "code",
   "execution_count": 48,
   "id": "1bbb62c7",
   "metadata": {},
   "outputs": [
    {
     "name": "stdout",
     "output_type": "stream",
     "text": [
      "     Experiencia  Salario\n",
      "0              3     2423\n",
      "1              5     2639\n",
      "2             10     3122\n",
      "3             13     3431\n",
      "4             18     3962\n",
      "..           ...      ...\n",
      "186            4     2510\n",
      "187            4     2530\n",
      "188            6     2760\n",
      "189           15     3616\n",
      "190           11     3245\n",
      "\n",
      "[145 rows x 2 columns]\n"
     ]
    }
   ],
   "source": [
    "print(x_entrenamiento)"
   ]
  },
  {
   "cell_type": "code",
   "execution_count": 49,
   "id": "cb16f485",
   "metadata": {},
   "outputs": [
    {
     "data": {
      "text/html": [
       "<style>#sk-container-id-1 {color: black;}#sk-container-id-1 pre{padding: 0;}#sk-container-id-1 div.sk-toggleable {background-color: white;}#sk-container-id-1 label.sk-toggleable__label {cursor: pointer;display: block;width: 100%;margin-bottom: 0;padding: 0.3em;box-sizing: border-box;text-align: center;}#sk-container-id-1 label.sk-toggleable__label-arrow:before {content: \"▸\";float: left;margin-right: 0.25em;color: #696969;}#sk-container-id-1 label.sk-toggleable__label-arrow:hover:before {color: black;}#sk-container-id-1 div.sk-estimator:hover label.sk-toggleable__label-arrow:before {color: black;}#sk-container-id-1 div.sk-toggleable__content {max-height: 0;max-width: 0;overflow: hidden;text-align: left;background-color: #f0f8ff;}#sk-container-id-1 div.sk-toggleable__content pre {margin: 0.2em;color: black;border-radius: 0.25em;background-color: #f0f8ff;}#sk-container-id-1 input.sk-toggleable__control:checked~div.sk-toggleable__content {max-height: 200px;max-width: 100%;overflow: auto;}#sk-container-id-1 input.sk-toggleable__control:checked~label.sk-toggleable__label-arrow:before {content: \"▾\";}#sk-container-id-1 div.sk-estimator input.sk-toggleable__control:checked~label.sk-toggleable__label {background-color: #d4ebff;}#sk-container-id-1 div.sk-label input.sk-toggleable__control:checked~label.sk-toggleable__label {background-color: #d4ebff;}#sk-container-id-1 input.sk-hidden--visually {border: 0;clip: rect(1px 1px 1px 1px);clip: rect(1px, 1px, 1px, 1px);height: 1px;margin: -1px;overflow: hidden;padding: 0;position: absolute;width: 1px;}#sk-container-id-1 div.sk-estimator {font-family: monospace;background-color: #f0f8ff;border: 1px dotted black;border-radius: 0.25em;box-sizing: border-box;margin-bottom: 0.5em;}#sk-container-id-1 div.sk-estimator:hover {background-color: #d4ebff;}#sk-container-id-1 div.sk-parallel-item::after {content: \"\";width: 100%;border-bottom: 1px solid gray;flex-grow: 1;}#sk-container-id-1 div.sk-label:hover label.sk-toggleable__label {background-color: #d4ebff;}#sk-container-id-1 div.sk-serial::before {content: \"\";position: absolute;border-left: 1px solid gray;box-sizing: border-box;top: 0;bottom: 0;left: 50%;z-index: 0;}#sk-container-id-1 div.sk-serial {display: flex;flex-direction: column;align-items: center;background-color: white;padding-right: 0.2em;padding-left: 0.2em;position: relative;}#sk-container-id-1 div.sk-item {position: relative;z-index: 1;}#sk-container-id-1 div.sk-parallel {display: flex;align-items: stretch;justify-content: center;background-color: white;position: relative;}#sk-container-id-1 div.sk-item::before, #sk-container-id-1 div.sk-parallel-item::before {content: \"\";position: absolute;border-left: 1px solid gray;box-sizing: border-box;top: 0;bottom: 0;left: 50%;z-index: -1;}#sk-container-id-1 div.sk-parallel-item {display: flex;flex-direction: column;z-index: 1;position: relative;background-color: white;}#sk-container-id-1 div.sk-parallel-item:first-child::after {align-self: flex-end;width: 50%;}#sk-container-id-1 div.sk-parallel-item:last-child::after {align-self: flex-start;width: 50%;}#sk-container-id-1 div.sk-parallel-item:only-child::after {width: 0;}#sk-container-id-1 div.sk-dashed-wrapped {border: 1px dashed gray;margin: 0 0.4em 0.5em 0.4em;box-sizing: border-box;padding-bottom: 0.4em;background-color: white;}#sk-container-id-1 div.sk-label label {font-family: monospace;font-weight: bold;display: inline-block;line-height: 1.2em;}#sk-container-id-1 div.sk-label-container {text-align: center;}#sk-container-id-1 div.sk-container {/* jupyter's `normalize.less` sets `[hidden] { display: none; }` but bootstrap.min.css set `[hidden] { display: none !important; }` so we also need the `!important` here to be able to override the default hidden behavior on the sphinx rendered scikit-learn.org. See: https://github.com/scikit-learn/scikit-learn/issues/21755 */display: inline-block !important;position: relative;}#sk-container-id-1 div.sk-text-repr-fallback {display: none;}</style><div id=\"sk-container-id-1\" class=\"sk-top-container\"><div class=\"sk-text-repr-fallback\"><pre>LinearRegression()</pre><b>In a Jupyter environment, please rerun this cell to show the HTML representation or trust the notebook. <br />On GitHub, the HTML representation is unable to render, please try loading this page with nbviewer.org.</b></div><div class=\"sk-container\" hidden><div class=\"sk-item\"><div class=\"sk-estimator sk-toggleable\"><input class=\"sk-toggleable__control sk-hidden--visually\" id=\"sk-estimator-id-1\" type=\"checkbox\" checked><label for=\"sk-estimator-id-1\" class=\"sk-toggleable__label sk-toggleable__label-arrow\">LinearRegression</label><div class=\"sk-toggleable__content\"><pre>LinearRegression()</pre></div></div></div></div></div>"
      ],
      "text/plain": [
       "LinearRegression()"
      ]
     },
     "execution_count": 49,
     "metadata": {},
     "output_type": "execute_result"
    }
   ],
   "source": [
    "regresion_lineal.fit(x_entrenamiento, y_entrenamiento)"
   ]
  },
  {
   "cell_type": "code",
   "execution_count": 50,
   "id": "496afd21",
   "metadata": {},
   "outputs": [],
   "source": [
    "datos_test = datos_test.drop(\"Edad\",axis=1)"
   ]
  },
  {
   "cell_type": "code",
   "execution_count": 51,
   "id": "b44d8848",
   "metadata": {},
   "outputs": [],
   "source": [
    "predicciones = regresion_lineal.predict(datos_test)"
   ]
  },
  {
   "cell_type": "code",
   "execution_count": 52,
   "id": "f6688bd5",
   "metadata": {},
   "outputs": [
    {
     "name": "stdout",
     "output_type": "stream",
     "text": [
      "[38.75882405 45.11533205 57.24087808 48.97973939 31.74032335 31.87681669\n",
      " 32.77139668 36.94973869 38.30839603 44.97201404 58.46986675 45.25865006\n",
      " 64.70353075 25.2342213  26.77031997 57.35007275 61.70585611 24.10132659\n",
      " 35.54330869 33.21500003 58.74967809 56.37359676 38.21967536 53.08301007\n",
      " 65.26315343 39.53056003 42.39801738 29.28234602 47.90089339 68.25345479\n",
      " 37.16812803 64.38222278 26.6815993  40.15160472 28.10850331 47.84629606\n",
      " 65.76135412 46.89029407 57.15215741 43.57240871 57.34324809 36.00056137\n",
      " 26.40861263 46.6992034  72.00866745 57.11120941]\n"
     ]
    }
   ],
   "source": [
    "print(predicciones)"
   ]
  },
  {
   "cell_type": "code",
   "execution_count": 53,
   "id": "520ae3eb",
   "metadata": {},
   "outputs": [],
   "source": [
    "datos_test['Edad']= predicciones"
   ]
  },
  {
   "cell_type": "code",
   "execution_count": 54,
   "id": "a3cbb821",
   "metadata": {},
   "outputs": [
    {
     "name": "stdout",
     "output_type": "stream",
     "text": [
      "     Experiencia  Salario       Edad\n",
      "13            10     3194  38.758824\n",
      "15            15     3635  45.115332\n",
      "18            24     4529  57.240878\n",
      "19            18     3907  48.979739\n",
      "20             5     2656  31.740323\n",
      "25             5     2676  31.876817\n",
      "29             6     2709  32.771397\n",
      "32             9     3027  36.949739\n",
      "33            10     3128  38.308396\n",
      "34            15     3614  44.972014\n",
      "35            25     4611  58.469867\n",
      "39            15     3656  45.258650\n",
      "47            30     5034  64.703531\n",
      "56             1     2095  25.234221\n",
      "57             2     2222  26.770320\n",
      "61            24     4545  57.350073\n",
      "65            27     4889  61.705856\n",
      "70             1     1929  24.101327\n",
      "75             8     2919  35.543309\n",
      "81             6     2774  33.215000\n",
      "96            25     4652  58.749678\n",
      "98            23     4500  56.373597\n",
      "109           10     3115  38.219675\n",
      "117           21     4214  53.083010\n",
      "120           30     5116  65.263153\n",
      "126           11     3209  39.530560\n",
      "128           13     3433  42.398017\n",
      "132            3     2492  29.282346\n",
      "134           17     3847  47.900893\n",
      "135           32     5358  68.253455\n",
      "136            9     3059  37.168128\n",
      "137           29     5085  64.382223\n",
      "140            2     2209  26.681599\n",
      "149           11     3300  40.151605\n",
      "151            3     2320  28.108503\n",
      "154           17     3839  47.846296\n",
      "156           30     5189  65.761354\n",
      "157           16     3797  46.890294\n",
      "158           24     4516  57.152157\n",
      "165           14     3507  43.572409\n",
      "171           24     4544  57.343248\n",
      "176            8     2986  36.000561\n",
      "178            2     2169  26.408613\n",
      "179           16     3769  46.699203\n",
      "181           35     5614  72.008667\n",
      "185           24     4510  57.111209\n"
     ]
    }
   ],
   "source": [
    "print(datos_test)"
   ]
  },
  {
   "cell_type": "code",
   "execution_count": null,
   "id": "9df54416",
   "metadata": {},
   "outputs": [],
   "source": []
  }
 ],
 "metadata": {
  "kernelspec": {
   "display_name": "Python 3 (ipykernel)",
   "language": "python",
   "name": "python3"
  },
  "language_info": {
   "codemirror_mode": {
    "name": "ipython",
    "version": 3
   },
   "file_extension": ".py",
   "mimetype": "text/x-python",
   "name": "python",
   "nbconvert_exporter": "python",
   "pygments_lexer": "ipython3",
   "version": "3.11.4"
  }
 },
 "nbformat": 4,
 "nbformat_minor": 5
}
