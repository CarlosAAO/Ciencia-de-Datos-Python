{
 "cells": [
  {
   "cell_type": "code",
   "execution_count": 1,
   "id": "262633ae",
   "metadata": {},
   "outputs": [],
   "source": [
    "from sklearn.datasets import make_regression\n",
    "from sklearn.model_selection import train_test_split\n",
    "from sklearn.ensemble import GradientBoostingRegressor\n",
    "from sklearn.metrics import r2_score"
   ]
  },
  {
   "cell_type": "code",
   "execution_count": 2,
   "id": "5524d258",
   "metadata": {},
   "outputs": [],
   "source": [
    "X, y = make_regression()"
   ]
  },
  {
   "cell_type": "code",
   "execution_count": 3,
   "id": "9efb488d",
   "metadata": {},
   "outputs": [],
   "source": [
    "X_train, X_test, y_train, y_test = train_test_split(X, y, test_size=0.20)"
   ]
  },
  {
   "cell_type": "code",
   "execution_count": 4,
   "id": "965335b1",
   "metadata": {},
   "outputs": [
    {
     "name": "stdout",
     "output_type": "stream",
     "text": [
      "Coeficiente de determinación o R2:  35.60085435689285\n"
     ]
    }
   ],
   "source": [
    "gradient_boosting_regressor = GradientBoostingRegressor()\n",
    "gradient_boosting_regressor.fit(X_train, y_train)\n",
    "\n",
    "pred_y=gradient_boosting_regressor.predict(X_test)\n",
    "print(\"Coeficiente de determinación o R2: \", r2_score(y_test,pred_y)*100)"
   ]
  },
  {
   "cell_type": "code",
   "execution_count": null,
   "id": "2bf3f5af",
   "metadata": {},
   "outputs": [],
   "source": []
  }
 ],
 "metadata": {
  "kernelspec": {
   "display_name": "Python 3 (ipykernel)",
   "language": "python",
   "name": "python3"
  },
  "language_info": {
   "codemirror_mode": {
    "name": "ipython",
    "version": 3
   },
   "file_extension": ".py",
   "mimetype": "text/x-python",
   "name": "python",
   "nbconvert_exporter": "python",
   "pygments_lexer": "ipython3",
   "version": "3.11.4"
  }
 },
 "nbformat": 4,
 "nbformat_minor": 5
}
