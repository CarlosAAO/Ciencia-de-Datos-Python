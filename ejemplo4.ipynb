{
 "cells": [
  {
   "cell_type": "code",
   "execution_count": 3,
   "id": "9b33254e",
   "metadata": {},
   "outputs": [],
   "source": [
    "import pandas as pd\n",
    "df = pd.read_csv('c:\\sistemas\\ciencia-datos\\empleados.csv', delimiter=\";\")"
   ]
  },
  {
   "cell_type": "code",
   "execution_count": 4,
   "id": "04dfdfd8",
   "metadata": {},
   "outputs": [
    {
     "name": "stdout",
     "output_type": "stream",
     "text": [
      "(251, 9)\n"
     ]
    }
   ],
   "source": [
    "print(df.shape)"
   ]
  },
  {
   "cell_type": "code",
   "execution_count": 5,
   "id": "33fc3063",
   "metadata": {},
   "outputs": [],
   "source": [
    "duplicados = df.duplicated()"
   ]
  },
  {
   "cell_type": "code",
   "execution_count": 6,
   "id": "cf460c10",
   "metadata": {},
   "outputs": [
    {
     "name": "stdout",
     "output_type": "stream",
     "text": [
      "    Nombre  Apellido       Sexo Estado_Civil  Edad  Experiencia  Salario  \\\n",
      "14  Selena       NaN   Femenino    Casado(a)  24.0          6.0   2709.0   \n",
      "65   Lucio       NaN  Masculino   Soltero(a)  54.0         12.0   3317.0   \n",
      "\n",
      "   Gerencia      Departamento  \n",
      "14       Sí      Contabilidad  \n",
      "65       No  Recursos Humanos  \n"
     ]
    }
   ],
   "source": [
    "print(df[duplicados])"
   ]
  },
  {
   "cell_type": "code",
   "execution_count": 8,
   "id": "2b68a965",
   "metadata": {},
   "outputs": [],
   "source": [
    "df = df.drop_duplicates()"
   ]
  },
  {
   "cell_type": "code",
   "execution_count": 9,
   "id": "85232050",
   "metadata": {},
   "outputs": [
    {
     "name": "stdout",
     "output_type": "stream",
     "text": [
      "        Nombre  Apellido       Sexo   Estado_Civil  Edad  Experiencia  \\\n",
      "0    Alexandro       NaN  Masculino     Soltero(a)  22.0          3.0   \n",
      "1       Carlos       NaN  Masculino      Casado(a)  38.0         10.0   \n",
      "2       Felipa       NaN   Femenino     Soltero(a)  26.0          5.0   \n",
      "3       Daniel       NaN  Masculino      Casado(a)  35.0         10.0   \n",
      "4         John       NaN  Masculino      Casado(a)  35.0         13.0   \n",
      "..         ...       ...        ...            ...   ...          ...   \n",
      "246       Jose       NaN  Masculino      Casado(a)  30.0          6.0   \n",
      "247    Marcelo       NaN  Masculino  Divorciado(a)  44.0         15.0   \n",
      "248       Eric       NaN        NaN      Casado(a)  25.0          7.0   \n",
      "249       Marc       NaN        NaN      Casado(a)  24.0          2.0   \n",
      "250    Leandro       NaN  Masculino      Casado(a)  37.0         11.0   \n",
      "\n",
      "     Salario Gerencia          Departamento  \n",
      "0     2423.0       No            Publicidad  \n",
      "1     3132.0       Sí                   NaN  \n",
      "2     2639.0       No             Comercial  \n",
      "3     3122.0       No             Comercial  \n",
      "4     3431.0       Sí  Servicios al cliente  \n",
      "..       ...      ...                   ...  \n",
      "246   2760.0       No  Servicios al cliente  \n",
      "247   3616.0       No                    IT  \n",
      "248   2880.0       Sí      Recursos Humanos  \n",
      "249   2172.0       No              Producto  \n",
      "250   3245.0       No              Finanzas  \n",
      "\n",
      "[249 rows x 9 columns]\n"
     ]
    }
   ],
   "source": [
    "print(df)"
   ]
  }
 ],
 "metadata": {
  "kernelspec": {
   "display_name": "Python 3 (ipykernel)",
   "language": "python",
   "name": "python3"
  },
  "language_info": {
   "codemirror_mode": {
    "name": "ipython",
    "version": 3
   },
   "file_extension": ".py",
   "mimetype": "text/x-python",
   "name": "python",
   "nbconvert_exporter": "python",
   "pygments_lexer": "ipython3",
   "version": "3.11.4"
  }
 },
 "nbformat": 4,
 "nbformat_minor": 5
}
