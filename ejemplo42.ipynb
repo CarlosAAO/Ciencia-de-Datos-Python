{
 "cells": [
  {
   "cell_type": "code",
   "execution_count": 1,
   "id": "7663eb6a",
   "metadata": {},
   "outputs": [],
   "source": [
    "import pandas as pd\n",
    "from sklearn.linear_model import LinearRegression\n",
    "from sklearn.model_selection import train_test_split\n",
    "from sklearn import metrics\n",
    "import numpy as np"
   ]
  },
  {
   "cell_type": "code",
   "execution_count": 4,
   "id": "06407ec5",
   "metadata": {},
   "outputs": [],
   "source": [
    "df = pd.read_csv('c:\\sistemas\\ciencia-datos\\emisiones1.csv', delimiter=\";\")"
   ]
  },
  {
   "cell_type": "code",
   "execution_count": 5,
   "id": "4c13c9b1",
   "metadata": {},
   "outputs": [
    {
     "name": "stdout",
     "output_type": "stream",
     "text": [
      "<class 'pandas.core.frame.DataFrame'>\n",
      "RangeIndex: 91 entries, 0 to 90\n",
      "Data columns (total 6 columns):\n",
      " #   Column    Non-Null Count  Dtype  \n",
      "---  ------    --------------  -----  \n",
      " 0   Marca     91 non-null     object \n",
      " 1   Longitud  91 non-null     float64\n",
      " 2   Anchura   91 non-null     float64\n",
      " 3   Altura    91 non-null     float64\n",
      " 4   Maletero  91 non-null     int64  \n",
      " 5   CO2       91 non-null     int64  \n",
      "dtypes: float64(3), int64(2), object(1)\n",
      "memory usage: 4.4+ KB\n",
      "None\n"
     ]
    }
   ],
   "source": [
    "print(df.info())"
   ]
  },
  {
   "cell_type": "code",
   "execution_count": 6,
   "id": "e1c164b6",
   "metadata": {},
   "outputs": [],
   "source": [
    "y = df[['CO2']]\n",
    "X = df[['Longitud', 'Anchura', 'Altura']]"
   ]
  },
  {
   "cell_type": "code",
   "execution_count": 7,
   "id": "965c95b2",
   "metadata": {},
   "outputs": [],
   "source": [
    "X_train, X_test, y_train, y_test = train_test_split(X, y, test_size=0.20)"
   ]
  },
  {
   "cell_type": "code",
   "execution_count": 8,
   "id": "9d0519fd",
   "metadata": {},
   "outputs": [],
   "source": [
    "regresion_lineal = LinearRegression()"
   ]
  },
  {
   "cell_type": "code",
   "execution_count": 9,
   "id": "93875213",
   "metadata": {},
   "outputs": [
    {
     "name": "stdout",
     "output_type": "stream",
     "text": [
      "Error absoluto medio:  24.694291614483465\n",
      "Error cuadrático medio:  889.5070095138695\n",
      "Raíz del error cuadrático medio:  29.82460409651517\n"
     ]
    }
   ],
   "source": [
    "regresion_lineal.fit(X_train, y_train)\n",
    "y_pred=regresion_lineal.predict(X_test)\n",
    "\n",
    "print(\"Error absoluto medio: \", metrics.mean_absolute_error(y_test, y_pred))\n",
    "print(\"Error cuadrático medio: \", metrics.mean_squared_error(y_test, y_pred))\n",
    "print(\"Raíz del error cuadrático medio: \",np.sqrt(metrics.mean_squared_error(y_test, y_pred)))"
   ]
  },
  {
   "cell_type": "code",
   "execution_count": null,
   "id": "5a24db76",
   "metadata": {},
   "outputs": [],
   "source": []
  }
 ],
 "metadata": {
  "kernelspec": {
   "display_name": "Python 3 (ipykernel)",
   "language": "python",
   "name": "python3"
  },
  "language_info": {
   "codemirror_mode": {
    "name": "ipython",
    "version": 3
   },
   "file_extension": ".py",
   "mimetype": "text/x-python",
   "name": "python",
   "nbconvert_exporter": "python",
   "pygments_lexer": "ipython3",
   "version": "3.11.4"
  }
 },
 "nbformat": 4,
 "nbformat_minor": 5
}
