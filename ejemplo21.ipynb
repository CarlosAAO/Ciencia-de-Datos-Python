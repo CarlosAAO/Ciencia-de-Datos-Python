{
 "cells": [
  {
   "cell_type": "code",
   "execution_count": 1,
   "id": "d5598b2e",
   "metadata": {},
   "outputs": [],
   "source": [
    "import pandas as pd\n",
    "import seaborn as sns"
   ]
  },
  {
   "cell_type": "code",
   "execution_count": 5,
   "id": "84bc9f40",
   "metadata": {},
   "outputs": [],
   "source": [
    "df = pd.read_csv('c:\\sistemas\\ciencia-datos\\empleados1.csv', delimiter=\";\")"
   ]
  },
  {
   "cell_type": "code",
   "execution_count": 6,
   "id": "ffb687d7",
   "metadata": {},
   "outputs": [
    {
     "name": "stdout",
     "output_type": "stream",
     "text": [
      "       Nombre       Sexo   Estado_Civil  Edad  Experiencia  Salario Gerencia  \\\n",
      "0   Alexandro  Masculino     Soltero(a)  22.0            3     2423       No   \n",
      "1      Felipa   Femenino     Soltero(a)  26.0            5     2639       No   \n",
      "2      Daniel  Masculino      Casado(a)  35.0           10     3122       No   \n",
      "3        John  Masculino      Casado(a)  35.0           13     3431       Sí   \n",
      "4     Ruperta   Femenino      Casado(a)  54.0           18     3962       No   \n",
      "5   Francisca   Femenino     Soltero(a)  27.0            4     2564       No   \n",
      "6      Selena   Femenino      Casado(a)  24.0            6     2709       Sí   \n",
      "7      Ximena   Femenino     Soltero(a)  58.0           24     4532       No   \n",
      "8       David  Masculino  Divorciado(a)  20.0            1     1977       No   \n",
      "9         Max  Masculino  Divorciado(a)  39.0            8     2953       No   \n",
      "10     Selena   Femenino      Casado(a)  24.0            6     2709       Sí   \n",
      "11      Paula   Femenino  Divorciado(a)  55.0           12     3306       No   \n",
      "12        Tim  Masculino  Divorciado(a)  22.0            4     2518       No   \n",
      "13     Andrew  Masculino  Divorciado(a)   NaN           10     3194       No   \n",
      "14     Gloria   Femenino      Casado(a)  31.0           11     3267       No   \n",
      "15        Ema   Femenino     Soltero(a)   NaN           15     3635       No   \n",
      "16      Jesse  Masculino     Soltero(a)  34.0           11     3257       No   \n",
      "17     Ronald  Masculino     Soltero(a)  23.0            5     2695       No   \n",
      "18      Randy  Masculino     Soltero(a)   NaN           24     4529       No   \n",
      "19     Justin  Masculino      Casado(a)   NaN           18     3907       No   \n",
      "\n",
      "            Departamento  \n",
      "0             Publicidad  \n",
      "1              Comercial  \n",
      "2              Comercial  \n",
      "3   Servicios al cliente  \n",
      "4               Producto  \n",
      "5                     IT  \n",
      "6           Contabilidad  \n",
      "7                  Legal  \n",
      "8       Recursos Humanos  \n",
      "9                 Ventas  \n",
      "10          Contabilidad  \n",
      "11              Producto  \n",
      "12      Recursos Humanos  \n",
      "13              Producto  \n",
      "14  Servicios al cliente  \n",
      "15              Producto  \n",
      "16            Publicidad  \n",
      "17  Servicios al cliente  \n",
      "18            Publicidad  \n",
      "19  Servicios al cliente  \n"
     ]
    }
   ],
   "source": [
    "print(df.head(20))"
   ]
  },
  {
   "cell_type": "code",
   "execution_count": 7,
   "id": "e20ba5ec",
   "metadata": {},
   "outputs": [
    {
     "data": {
      "text/plain": [
       "0.9951667578127846"
      ]
     },
     "execution_count": 7,
     "metadata": {},
     "output_type": "execute_result"
    }
   ],
   "source": [
    "df['Experiencia'].corr(df['Salario'])"
   ]
  },
  {
   "cell_type": "code",
   "execution_count": 8,
   "id": "1974115c",
   "metadata": {},
   "outputs": [
    {
     "data": {
      "text/plain": [
       "<Axes: >"
      ]
     },
     "execution_count": 8,
     "metadata": {},
     "output_type": "execute_result"
    },
    {
     "data": {
      "image/png": "[encoded data removed]",
      "text/plain": [
       "<Figure size 640x480 with 2 Axes>"
      ]
     },
     "metadata": {},
     "output_type": "display_data"
    }
   ],
   "source": [
    "sns.heatmap(df.corr(numeric_only=True), vmin=-1, vmax=1, annot=True)"
   ]
  },
  {
   "cell_type": "code",
   "execution_count": null,
   "id": "3a3174c3",
   "metadata": {},
   "outputs": [],
   "source": []
  }
 ],
 "metadata": {
  "kernelspec": {
   "display_name": "Python 3 (ipykernel)",
   "language": "python",
   "name": "python3"
  },
  "language_info": {
   "codemirror_mode": {
    "name": "ipython",
    "version": 3
   },
   "file_extension": ".py",
   "mimetype": "text/x-python",
   "name": "python",
   "nbconvert_exporter": "python",
   "pygments_lexer": "ipython3",
   "version": "3.11.4"
  }
 },
 "nbformat": 4,
 "nbformat_minor": 5
}
