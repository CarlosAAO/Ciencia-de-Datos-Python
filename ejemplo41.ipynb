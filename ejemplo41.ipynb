{
 "cells": [
  {
   "cell_type": "code",
   "execution_count": 1,
   "id": "5e2f543b",
   "metadata": {},
   "outputs": [],
   "source": [
    "import pandas as pd\n",
    "from sklearn.linear_model import LinearRegression\n",
    "from sklearn.model_selection import train_test_split"
   ]
  },
  {
   "cell_type": "code",
   "execution_count": 8,
   "id": "7fd98a82",
   "metadata": {},
   "outputs": [],
   "source": [
    "df = pd.read_csv('c:\\sistemas\\ciencia-datos\\\\empleados1.csv', delimiter=\";\")"
   ]
  },
  {
   "cell_type": "code",
   "execution_count": 9,
   "id": "33c167e0",
   "metadata": {},
   "outputs": [
    {
     "name": "stdout",
     "output_type": "stream",
     "text": [
      "      Nombre       Sexo Estado_Civil  Edad  Experiencia  Salario Gerencia  \\\n",
      "0  Alexandro  Masculino   Soltero(a)  22.0            3     2423       No   \n",
      "1     Felipa   Femenino   Soltero(a)  26.0            5     2639       No   \n",
      "2     Daniel  Masculino    Casado(a)  35.0           10     3122       No   \n",
      "3       John  Masculino    Casado(a)  35.0           13     3431       Sí   \n",
      "4    Ruperta   Femenino    Casado(a)  54.0           18     3962       No   \n",
      "\n",
      "           Departamento  \n",
      "0            Publicidad  \n",
      "1             Comercial  \n",
      "2             Comercial  \n",
      "3  Servicios al cliente  \n",
      "4              Producto  \n"
     ]
    }
   ],
   "source": [
    "print(df.head())"
   ]
  },
  {
   "cell_type": "code",
   "execution_count": 10,
   "id": "8b68d312",
   "metadata": {},
   "outputs": [],
   "source": [
    "y = df['Salario'].values.reshape(-1,1)\n",
    "X = df['Experiencia'].values.reshape(-1,1)"
   ]
  },
  {
   "cell_type": "code",
   "execution_count": 11,
   "id": "608839c7",
   "metadata": {},
   "outputs": [],
   "source": [
    "X_train, X_test, y_train, y_test = train_test_split(X, y, test_size=0.20)"
   ]
  },
  {
   "cell_type": "code",
   "execution_count": 12,
   "id": "2e4062f7",
   "metadata": {},
   "outputs": [],
   "source": [
    "regresion_lineal = LinearRegression()"
   ]
  },
  {
   "cell_type": "code",
   "execution_count": 13,
   "id": "2f430db3",
   "metadata": {},
   "outputs": [
    {
     "name": "stdout",
     "output_type": "stream",
     "text": [
      "Coeficiente de regresión:  [[105.19086282]]\n",
      "Puntaje de regresión:  0.9902164012766308\n",
      "Puntaje de regresión:  0.9902164012766308\n",
      "Puntaje de regresión:  0.9902164012766308\n"
     ]
    }
   ],
   "source": [
    "regresion_lineal.fit(X_train, y_train)\n",
    "\n",
    "print('Coeficiente de regresión: ', regresion_lineal.coef_)\n",
    "print('Puntaje de regresión: ',regresion_lineal.score(X_test, y_test))\n",
    "print('Puntaje de regresión: ',regresion_lineal.score(X_test, y_test))\n",
    "print('Puntaje de regresión: ',regresion_lineal.score(X_test, y_test))"
   ]
  },
  {
   "cell_type": "code",
   "execution_count": null,
   "id": "0d80f5cb",
   "metadata": {},
   "outputs": [],
   "source": []
  }
 ],
 "metadata": {
  "kernelspec": {
   "display_name": "Python 3 (ipykernel)",
   "language": "python",
   "name": "python3"
  },
  "language_info": {
   "codemirror_mode": {
    "name": "ipython",
    "version": 3
   },
   "file_extension": ".py",
   "mimetype": "text/x-python",
   "name": "python",
   "nbconvert_exporter": "python",
   "pygments_lexer": "ipython3",
   "version": "3.11.4"
  }
 },
 "nbformat": 4,
 "nbformat_minor": 5
}
