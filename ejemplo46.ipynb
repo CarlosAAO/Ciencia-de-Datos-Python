{
 "cells": [
  {
   "cell_type": "code",
   "execution_count": 1,
   "id": "c478bedc",
   "metadata": {},
   "outputs": [],
   "source": [
    "import pandas as pd\n",
    "from sklearn.neighbors import LocalOutlierFactor"
   ]
  },
  {
   "cell_type": "code",
   "execution_count": 5,
   "id": "8cb8c664",
   "metadata": {},
   "outputs": [],
   "source": [
    "df = pd.read_csv('c:\\sistemas\\ciencia-datos\\datos1.csv', delimiter=\";\")"
   ]
  },
  {
   "cell_type": "code",
   "execution_count": 6,
   "id": "7b13bd78",
   "metadata": {},
   "outputs": [],
   "source": [
    "local_outlier_factor = LocalOutlierFactor()\n",
    "local_outlier_factor.fit(df)\n",
    "\n",
    "df['local_outlier'] = local_outlier_factor.fit_predict(df)"
   ]
  },
  {
   "cell_type": "code",
   "execution_count": 7,
   "id": "e1cb4eb6",
   "metadata": {},
   "outputs": [
    {
     "name": "stdout",
     "output_type": "stream",
     "text": [
      " 1    959\n",
      "-1     41\n",
      "Name: local_outlier, dtype: int64\n"
     ]
    }
   ],
   "source": [
    "print(df['local_outlier'].value_counts())"
   ]
  },
  {
   "cell_type": "code",
   "execution_count": null,
   "id": "be5e47b7",
   "metadata": {},
   "outputs": [],
   "source": []
  }
 ],
 "metadata": {
  "kernelspec": {
   "display_name": "Python 3 (ipykernel)",
   "language": "python",
   "name": "python3"
  },
  "language_info": {
   "codemirror_mode": {
    "name": "ipython",
    "version": 3
   },
   "file_extension": ".py",
   "mimetype": "text/x-python",
   "name": "python",
   "nbconvert_exporter": "python",
   "pygments_lexer": "ipython3",
   "version": "3.11.4"
  }
 },
 "nbformat": 4,
 "nbformat_minor": 5
}
