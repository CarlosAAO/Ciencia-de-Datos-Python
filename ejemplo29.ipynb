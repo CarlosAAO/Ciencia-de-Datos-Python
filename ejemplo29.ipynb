{
 "cells": [
  {
   "cell_type": "code",
   "execution_count": 1,
   "id": "bef75892",
   "metadata": {},
   "outputs": [],
   "source": [
    "import pandas as pd"
   ]
  },
  {
   "cell_type": "code",
   "execution_count": 2,
   "id": "15929b88",
   "metadata": {},
   "outputs": [],
   "source": [
    "df = pd.read_csv('c:\\sistemas\\ciencia-datos\\\\emisiones.csv', delimiter=\";\")"
   ]
  },
  {
   "cell_type": "code",
   "execution_count": 3,
   "id": "239ebf1d",
   "metadata": {},
   "outputs": [
    {
     "name": "stdout",
     "output_type": "stream",
     "text": [
      "       Marca  Motor  Cilindros  Consumo Ciudad  Consumo Carretera  CO2\n",
      "0   Delicacy    2.1          4            13.7                9.1  290\n",
      "1     Fusion    2.6          4            12.7                8.6  327\n",
      "2   Majestic    2.0          4            13.7                9.4  382\n",
      "3     Garnet    4.3          4            14.3                9.0  347\n",
      "4        Pit    3.6          4            14.6               10.4  377\n",
      "5  Exception    4.0          4             9.5                8.5  327\n",
      "6       Plus    4.2          6            10.2                9.9  382\n",
      "7      Jacks    4.5          4            13.7               10.4  347\n",
      "8      Racer    4.4          6            18.4                7.1  377\n",
      "9    Enhance    2.7          6            13.7                9.3  294\n"
     ]
    }
   ],
   "source": [
    "print(df.head(10))"
   ]
  },
  {
   "cell_type": "code",
   "execution_count": 4,
   "id": "a9e6aee2",
   "metadata": {},
   "outputs": [],
   "source": [
    "df = df.iloc[:,[0,1,3,2,4]]"
   ]
  },
  {
   "cell_type": "code",
   "execution_count": 5,
   "id": "3fa4579f",
   "metadata": {},
   "outputs": [
    {
     "name": "stdout",
     "output_type": "stream",
     "text": [
      "          Marca  Motor  Consumo Ciudad  Cilindros  Consumo Carretera\n",
      "0      Delicacy    2.1            13.7          4                9.1\n",
      "1        Fusion    2.6            12.7          4                8.6\n",
      "2      Majestic    2.0            13.7          4                9.4\n",
      "3        Garnet    4.3            14.3          4                9.0\n",
      "4           Pit    3.6            14.6          4               10.4\n",
      "..          ...    ...             ...        ...                ...\n",
      "94     Carquipo    3.7            16.7          4               10.3\n",
      "95         Carx    3.1            10.0          4                9.6\n",
      "96        Carya    3.6            11.5          4               10.2\n",
      "97  Picker Auto    3.9             9.3          4               11.2\n",
      "98     Ape Auto    2.1            12.2          4                7.2\n",
      "\n",
      "[99 rows x 5 columns]\n"
     ]
    }
   ],
   "source": [
    "print(df)"
   ]
  },
  {
   "cell_type": "code",
   "execution_count": null,
   "id": "2fba42c1",
   "metadata": {},
   "outputs": [],
   "source": []
  }
 ],
 "metadata": {
  "kernelspec": {
   "display_name": "Python 3 (ipykernel)",
   "language": "python",
   "name": "python3"
  },
  "language_info": {
   "codemirror_mode": {
    "name": "ipython",
    "version": 3
   },
   "file_extension": ".py",
   "mimetype": "text/x-python",
   "name": "python",
   "nbconvert_exporter": "python",
   "pygments_lexer": "ipython3",
   "version": "3.11.4"
  }
 },
 "nbformat": 4,
 "nbformat_minor": 5
}
