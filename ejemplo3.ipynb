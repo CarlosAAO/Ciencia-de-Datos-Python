{
 "cells": [
  {
   "cell_type": "code",
   "execution_count": 1,
   "id": "1eacbed6",
   "metadata": {},
   "outputs": [],
   "source": [
    "import pandas as pd\n",
    "df = pd.read_csv('c:\\sistemas\\ciencia-datos\\empleados.csv', delimiter=\";\")"
   ]
  },
  {
   "cell_type": "code",
   "execution_count": 2,
   "id": "9e7af76c",
   "metadata": {},
   "outputs": [
    {
     "name": "stdout",
     "output_type": "stream",
     "text": [
      "       Nombre  Apellido       Sexo   Estado_Civil  Edad  Experiencia  Salario  \\\n",
      "0   Alexandro       NaN  Masculino     Soltero(a)  22.0          3.0   2423.0   \n",
      "1      Carlos       NaN  Masculino      Casado(a)  38.0         10.0   3132.0   \n",
      "2      Felipa       NaN   Femenino     Soltero(a)  26.0          5.0   2639.0   \n",
      "3      Daniel       NaN  Masculino      Casado(a)  35.0         10.0   3122.0   \n",
      "4        John       NaN  Masculino      Casado(a)  35.0         13.0   3431.0   \n",
      "5      Edward       NaN  Masculino     Soltero(a)   NaN          NaN   4500.0   \n",
      "6     Ruperta       NaN   Femenino      Casado(a)  54.0         18.0   3962.0   \n",
      "7       Amaya       NaN   Femenino  Divorciado(a)  22.0          3.0   2450.0   \n",
      "8   Francisca       NaN   Femenino     Soltero(a)  27.0          4.0   2564.0   \n",
      "9      Selena       NaN   Femenino      Casado(a)  24.0          6.0   2709.0   \n",
      "10       Febe       NaN   Femenino      Casado(a)  44.0         22.0   4359.0   \n",
      "11     Ximena       NaN   Femenino     Soltero(a)  58.0         24.0   4532.0   \n",
      "12      David       NaN  Masculino  Divorciado(a)  20.0          1.0   1977.0   \n",
      "13        Max       NaN  Masculino  Divorciado(a)  39.0          8.0   2953.0   \n",
      "14     Selena       NaN   Femenino      Casado(a)  24.0          6.0   2709.0   \n",
      "15        NaN       NaN   Femenino            NaN  44.0         22.0      NaN   \n",
      "16      Paula       NaN   Femenino  Divorciado(a)  55.0         12.0   3306.0   \n",
      "17        Tim       NaN  Masculino  Divorciado(a)  22.0          4.0   2518.0   \n",
      "18     Andrew       NaN  Masculino  Divorciado(a)   NaN         10.0   3194.0   \n",
      "19     Gloria       NaN   Femenino      Casado(a)  31.0         11.0   3267.0   \n",
      "\n",
      "   Gerencia          Departamento  \n",
      "0        No            Publicidad  \n",
      "1        Sí                   NaN  \n",
      "2        No             Comercial  \n",
      "3        No             Comercial  \n",
      "4        Sí  Servicios al cliente  \n",
      "5        No                 Legal  \n",
      "6        No              Producto  \n",
      "7       NaN             Comercial  \n",
      "8        No                    IT  \n",
      "9        Sí          Contabilidad  \n",
      "10       No                   NaN  \n",
      "11       No                 Legal  \n",
      "12       No      Recursos Humanos  \n",
      "13       No                Ventas  \n",
      "14       Sí          Contabilidad  \n",
      "15      NaN                   NaN  \n",
      "16       No              Producto  \n",
      "17       No      Recursos Humanos  \n",
      "18       No              Producto  \n",
      "19       No  Servicios al cliente  \n"
     ]
    }
   ],
   "source": [
    "print(df.head(20))"
   ]
  },
  {
   "cell_type": "code",
   "execution_count": 3,
   "id": "105e1ed4",
   "metadata": {},
   "outputs": [
    {
     "name": "stdout",
     "output_type": "stream",
     "text": [
      "(251, 9)\n"
     ]
    }
   ],
   "source": [
    "print(df.shape)"
   ]
  },
  {
   "cell_type": "markdown",
   "id": "088164be",
   "metadata": {},
   "source": [
    "# Using isnull() to select all rows with NaN under an entire DataFrame:"
   ]
  },
  {
   "cell_type": "code",
   "execution_count": 4,
   "id": "f875002a",
   "metadata": {},
   "outputs": [
    {
     "name": "stdout",
     "output_type": "stream",
     "text": [
      "        Nombre  Apellido       Sexo   Estado_Civil  Edad  Experiencia  \\\n",
      "0    Alexandro       NaN  Masculino     Soltero(a)  22.0          3.0   \n",
      "1       Carlos       NaN  Masculino      Casado(a)  38.0         10.0   \n",
      "2       Felipa       NaN   Femenino     Soltero(a)  26.0          5.0   \n",
      "3       Daniel       NaN  Masculino      Casado(a)  35.0         10.0   \n",
      "4         John       NaN  Masculino      Casado(a)  35.0         13.0   \n",
      "..         ...       ...        ...            ...   ...          ...   \n",
      "246       Jose       NaN  Masculino      Casado(a)  30.0          6.0   \n",
      "247    Marcelo       NaN  Masculino  Divorciado(a)  44.0         15.0   \n",
      "248       Eric       NaN        NaN      Casado(a)  25.0          7.0   \n",
      "249       Marc       NaN        NaN      Casado(a)  24.0          2.0   \n",
      "250    Leandro       NaN  Masculino      Casado(a)  37.0         11.0   \n",
      "\n",
      "     Salario Gerencia          Departamento  \n",
      "0     2423.0       No            Publicidad  \n",
      "1     3132.0       Sí                   NaN  \n",
      "2     2639.0       No             Comercial  \n",
      "3     3122.0       No             Comercial  \n",
      "4     3431.0       Sí  Servicios al cliente  \n",
      "..       ...      ...                   ...  \n",
      "246   2760.0       No  Servicios al cliente  \n",
      "247   3616.0       No                    IT  \n",
      "248   2880.0       Sí      Recursos Humanos  \n",
      "249   2172.0       No              Producto  \n",
      "250   3245.0       No              Finanzas  \n",
      "\n",
      "[251 rows x 9 columns]\n"
     ]
    }
   ],
   "source": [
    "print(df[df.isnull().any(axis=1)])"
   ]
  },
  {
   "cell_type": "markdown",
   "id": "8eba4016",
   "metadata": {},
   "source": [
    "# Using isna() to select all rows with NaN under an entire DataFrame:"
   ]
  },
  {
   "cell_type": "code",
   "execution_count": 5,
   "id": "1b812178",
   "metadata": {},
   "outputs": [
    {
     "name": "stdout",
     "output_type": "stream",
     "text": [
      "        Nombre  Apellido       Sexo   Estado_Civil  Edad  Experiencia  \\\n",
      "0    Alexandro       NaN  Masculino     Soltero(a)  22.0          3.0   \n",
      "1       Carlos       NaN  Masculino      Casado(a)  38.0         10.0   \n",
      "2       Felipa       NaN   Femenino     Soltero(a)  26.0          5.0   \n",
      "3       Daniel       NaN  Masculino      Casado(a)  35.0         10.0   \n",
      "4         John       NaN  Masculino      Casado(a)  35.0         13.0   \n",
      "..         ...       ...        ...            ...   ...          ...   \n",
      "246       Jose       NaN  Masculino      Casado(a)  30.0          6.0   \n",
      "247    Marcelo       NaN  Masculino  Divorciado(a)  44.0         15.0   \n",
      "248       Eric       NaN        NaN      Casado(a)  25.0          7.0   \n",
      "249       Marc       NaN        NaN      Casado(a)  24.0          2.0   \n",
      "250    Leandro       NaN  Masculino      Casado(a)  37.0         11.0   \n",
      "\n",
      "     Salario Gerencia          Departamento  \n",
      "0     2423.0       No            Publicidad  \n",
      "1     3132.0       Sí                   NaN  \n",
      "2     2639.0       No             Comercial  \n",
      "3     3122.0       No             Comercial  \n",
      "4     3431.0       Sí  Servicios al cliente  \n",
      "..       ...      ...                   ...  \n",
      "246   2760.0       No  Servicios al cliente  \n",
      "247   3616.0       No                    IT  \n",
      "248   2880.0       Sí      Recursos Humanos  \n",
      "249   2172.0       No              Producto  \n",
      "250   3245.0       No              Finanzas  \n",
      "\n",
      "[251 rows x 9 columns]\n"
     ]
    }
   ],
   "source": [
    "print(df[df.isna().any(axis=1)])"
   ]
  },
  {
   "cell_type": "code",
   "execution_count": 16,
   "id": "aeb355ca",
   "metadata": {},
   "outputs": [
    {
     "name": "stdout",
     "output_type": "stream",
     "text": [
      "        Nombre  Apellido Sexo   Estado_Civil  Edad  Experiencia  Salario  \\\n",
      "21      Isaura       NaN  NaN  Divorciado(a)  35.0          8.0   2973.0   \n",
      "23      Nathan       NaN  NaN     Soltero(a)  35.0          9.0   3040.0   \n",
      "28      Steven       NaN  NaN      Casado(a)  19.0          1.0   2051.0   \n",
      "32        Vera       NaN  NaN      Casado(a)   NaN          NaN      NaN   \n",
      "42    Maricela       NaN  NaN  Divorciado(a)  27.0          6.0   2751.0   \n",
      "50   Manuelita       NaN  NaN      Casado(a)  18.0          0.0   1672.0   \n",
      "52    Maricruz       NaN  NaN     Soltero(a)  21.0          2.0   2272.0   \n",
      "54      Carlos       NaN  NaN            NaN   NaN          NaN      NaN   \n",
      "61         Eva       NaN  NaN      Casado(a)  22.0          4.0   2565.0   \n",
      "66    Estrella       NaN  NaN            NaN   NaN          NaN      NaN   \n",
      "71      Joshua       NaN  NaN      Casado(a)  26.0          4.0   2520.0   \n",
      "72        Lola       NaN  NaN     Soltero(a)  32.0          3.0   2487.0   \n",
      "82      Jeremy       NaN  NaN      Casado(a)  22.0          4.0   2512.0   \n",
      "88         NaN       NaN  NaN            NaN   NaN         11.0   3293.0   \n",
      "92         Amy       NaN  NaN      Casado(a)  29.0          3.0   2426.0   \n",
      "93      Dorita       NaN  NaN     Soltero(a)  20.0          1.0   2038.0   \n",
      "95         Paz       NaN  NaN      Casado(a)  26.0          1.0   1925.0   \n",
      "99      Eliana       NaN  NaN      Casado(a)  23.0          5.0   2670.0   \n",
      "110    Eulalia       NaN  NaN      Casado(a)  38.0          8.0   2929.0   \n",
      "123      Elena       NaN  NaN      Casado(a)   NaN          5.0   2686.0   \n",
      "145    Isidora       NaN  NaN     Soltero(a)  19.0          1.0   2059.0   \n",
      "146     Eliana       NaN  NaN  Divorciado(a)  18.0          0.0   1727.0   \n",
      "150     Eliana       NaN  NaN      Casado(a)  36.0          9.0   3036.0   \n",
      "153   Brunilda       NaN  NaN      Casado(a)  22.0          2.0   2213.0   \n",
      "155      Lucia       NaN  NaN  Divorciado(a)  40.0         10.0   3187.0   \n",
      "161     Otilia       NaN  NaN      Casado(a)   NaN         30.0   5166.0   \n",
      "163   Elisabet       NaN  NaN  Divorciado(a)  40.0          6.0   2796.0   \n",
      "170      Sofia       NaN  NaN     Soltero(a)   NaN         26.0   4716.0   \n",
      "176        NaN       NaN  NaN  Divorciado(a)  56.0         11.0   3224.0   \n",
      "185    Samanta       NaN  NaN      Casado(a)  31.0         12.0   3393.0   \n",
      "194   Griselda       NaN  NaN      Casado(a)  19.0          1.0   1930.0   \n",
      "220     Piedad       NaN  NaN     Soltero(a)  32.0          3.0   2316.0   \n",
      "232    Michael       NaN  NaN     Soltero(a)  35.0         13.0   3420.0   \n",
      "241     Robert       NaN  NaN     Soltero(a)  33.0         11.0   3267.0   \n",
      "242      Kevin       NaN  NaN  Divorciado(a)   NaN         20.0   4166.0   \n",
      "248       Eric       NaN  NaN      Casado(a)  25.0          7.0   2880.0   \n",
      "249       Marc       NaN  NaN      Casado(a)  24.0          2.0   2172.0   \n",
      "\n",
      "    Gerencia          Departamento  \n",
      "21        Sí                 Legal  \n",
      "23        Sí  Servicios al cliente  \n",
      "28        No                 Legal  \n",
      "32       NaN                   NaN  \n",
      "42        No          Contabilidad  \n",
      "50        No                Ventas  \n",
      "52       NaN                Ventas  \n",
      "54       NaN             Comercial  \n",
      "61        No              Finanzas  \n",
      "66       NaN                   NaN  \n",
      "71        No             Comercial  \n",
      "72        No  Servicios al cliente  \n",
      "82        No                Ventas  \n",
      "88       NaN                   NaN  \n",
      "92        No                 Legal  \n",
      "93        No                   NaN  \n",
      "95        No                 Legal  \n",
      "99        No            Publicidad  \n",
      "110       No                 Legal  \n",
      "123       No              Producto  \n",
      "145       No                    IT  \n",
      "146       No                Ventas  \n",
      "150       No                Ventas  \n",
      "153       No         Reclutamiento  \n",
      "155       Sí             Comercial  \n",
      "161       No            Publicidad  \n",
      "163       No              Finanzas  \n",
      "170       No            Publicidad  \n",
      "176      NaN  Servicios al cliente  \n",
      "185       No              Finanzas  \n",
      "194       No                 Legal  \n",
      "220       No             Comercial  \n",
      "232       No                 Legal  \n",
      "241       No      Recursos Humanos  \n",
      "242       No              Finanzas  \n",
      "248       Sí      Recursos Humanos  \n",
      "249       No              Producto  \n"
     ]
    }
   ],
   "source": [
    "print(df[df['Sexo'].isnull()])\n",
    "      "
   ]
  },
  {
   "cell_type": "code",
   "execution_count": 17,
   "id": "83ca1fc3",
   "metadata": {},
   "outputs": [
    {
     "name": "stdout",
     "output_type": "stream",
     "text": [
      "Nombre            6\n",
      "Apellido        251\n",
      "Sexo             37\n",
      "Estado_Civil      4\n",
      "Edad             61\n",
      "Experiencia       4\n",
      "Salario           6\n",
      "Gerencia         21\n",
      "Departamento     12\n",
      "dtype: int64\n"
     ]
    }
   ],
   "source": [
    "print(df.isnull().sum())"
   ]
  },
  {
   "cell_type": "code",
   "execution_count": 10,
   "id": "5572e1fc",
   "metadata": {},
   "outputs": [
    {
     "name": "stdout",
     "output_type": "stream",
     "text": [
      "        Nombre  Apellido       Sexo   Estado_Civil  Edad  Experiencia  \\\n",
      "0    Alexandro       NaN  Masculino     Soltero(a)  22.0          3.0   \n",
      "1       Carlos       NaN  Masculino      Casado(a)  38.0         10.0   \n",
      "2       Felipa       NaN   Femenino     Soltero(a)  26.0          5.0   \n",
      "3       Daniel       NaN  Masculino      Casado(a)  35.0         10.0   \n",
      "4         John       NaN  Masculino      Casado(a)  35.0         13.0   \n",
      "..         ...       ...        ...            ...   ...          ...   \n",
      "246       Jose       NaN  Masculino      Casado(a)  30.0          6.0   \n",
      "247    Marcelo       NaN  Masculino  Divorciado(a)  44.0         15.0   \n",
      "248       Eric       NaN        NaN      Casado(a)  25.0          7.0   \n",
      "249       Marc       NaN        NaN      Casado(a)  24.0          2.0   \n",
      "250    Leandro       NaN  Masculino      Casado(a)  37.0         11.0   \n",
      "\n",
      "     Salario Gerencia          Departamento  \n",
      "0     2423.0       No            Publicidad  \n",
      "1     3132.0       Sí                   NaN  \n",
      "2     2639.0       No             Comercial  \n",
      "3     3122.0       No             Comercial  \n",
      "4     3431.0       Sí  Servicios al cliente  \n",
      "..       ...      ...                   ...  \n",
      "246   2760.0       No  Servicios al cliente  \n",
      "247   3616.0       No                    IT  \n",
      "248   2880.0       Sí      Recursos Humanos  \n",
      "249   2172.0       No              Producto  \n",
      "250   3245.0       No              Finanzas  \n",
      "\n",
      "[251 rows x 9 columns]\n"
     ]
    }
   ],
   "source": [
    "print(df[df['Apellido'].isna()])"
   ]
  }
 ],
 "metadata": {
  "kernelspec": {
   "display_name": "Python 3 (ipykernel)",
   "language": "python",
   "name": "python3"
  },
  "language_info": {
   "codemirror_mode": {
    "name": "ipython",
    "version": 3
   },
   "file_extension": ".py",
   "mimetype": "text/x-python",
   "name": "python",
   "nbconvert_exporter": "python",
   "pygments_lexer": "ipython3",
   "version": "3.11.4"
  }
 },
 "nbformat": 4,
 "nbformat_minor": 5
}
